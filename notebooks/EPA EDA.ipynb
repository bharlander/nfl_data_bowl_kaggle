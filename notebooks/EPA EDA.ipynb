{
 "cells": [
  {
   "cell_type": "markdown",
   "metadata": {},
   "source": [
    "# Notebook to conduct EDA on EPA - Expected Points"
   ]
  },
  {
   "cell_type": "code",
   "execution_count": 92,
   "metadata": {},
   "outputs": [],
   "source": [
    "import pandas as pd\n",
    "import os\n",
    "import re\n",
    "import matplotlib\n",
    "import matplotlib.pyplot as plt\n",
    "import seaborn as sns"
   ]
  },
  {
   "cell_type": "code",
   "execution_count": 57,
   "metadata": {},
   "outputs": [],
   "source": [
    "# set data directiory and get list of files there\n",
    "data_dir = '../data/raw/'\n",
    "data_files = os.listdir(data_dir)"
   ]
  },
  {
   "cell_type": "code",
   "execution_count": null,
   "metadata": {},
   "outputs": [],
   "source": []
  },
  {
   "cell_type": "code",
   "execution_count": 58,
   "metadata": {},
   "outputs": [],
   "source": [
    "# params for file read\n",
    "\n",
    "week_cols = ['time','']"
   ]
  },
  {
   "cell_type": "code",
   "execution_count": 59,
   "metadata": {},
   "outputs": [],
   "source": [
    "# read the data\n",
    "\n",
    "# read and union the tracking data\n",
    "week_df_list = []\n",
    "r = re.compile(\"week\")\n",
    "for file in list(filter(r.match, data_files)):\n",
    "    df_file = pd.read_csv(data_dir + file, parse_dates = ['time'], nrows = 1000)\n",
    "    df_file['source_file'] = file\n",
    "    week_df_list.append(df_file)\n",
    "\n",
    "# combine all files in df list\n",
    "weeks = pd.concat(week_df_list)\n",
    "    \n",
    "\n",
    "# read in the games data\n",
    "games = pd.read_csv(data_dir + 'games.csv')\n",
    "\n",
    "# read in the players data\n",
    "players = pd.read_csv(data_dir + 'players.csv')\n",
    "\n",
    "# read in the plays data\n",
    "plays = pd.read_csv(data_dir + 'plays.csv')\n"
   ]
  },
  {
   "cell_type": "code",
   "execution_count": 60,
   "metadata": {},
   "outputs": [
    {
     "data": {
      "text/html": [
       "<div>\n",
       "<style scoped>\n",
       "    .dataframe tbody tr th:only-of-type {\n",
       "        vertical-align: middle;\n",
       "    }\n",
       "\n",
       "    .dataframe tbody tr th {\n",
       "        vertical-align: top;\n",
       "    }\n",
       "\n",
       "    .dataframe thead th {\n",
       "        text-align: right;\n",
       "    }\n",
       "</style>\n",
       "<table border=\"1\" class=\"dataframe\">\n",
       "  <thead>\n",
       "    <tr style=\"text-align: right;\">\n",
       "      <th></th>\n",
       "      <th>gameId</th>\n",
       "      <th>playId</th>\n",
       "      <th>playDescription</th>\n",
       "      <th>quarter</th>\n",
       "      <th>down</th>\n",
       "      <th>yardsToGo</th>\n",
       "      <th>possessionTeam</th>\n",
       "      <th>playType</th>\n",
       "      <th>yardlineSide</th>\n",
       "      <th>yardlineNumber</th>\n",
       "      <th>...</th>\n",
       "      <th>preSnapHomeScore</th>\n",
       "      <th>gameClock</th>\n",
       "      <th>absoluteYardlineNumber</th>\n",
       "      <th>penaltyCodes</th>\n",
       "      <th>penaltyJerseyNumbers</th>\n",
       "      <th>passResult</th>\n",
       "      <th>offensePlayResult</th>\n",
       "      <th>playResult</th>\n",
       "      <th>epa</th>\n",
       "      <th>isDefensivePI</th>\n",
       "    </tr>\n",
       "  </thead>\n",
       "  <tbody>\n",
       "    <tr>\n",
       "      <th>0</th>\n",
       "      <td>2018090600</td>\n",
       "      <td>75</td>\n",
       "      <td>(15:00) M.Ryan pass short right to J.Jones pus...</td>\n",
       "      <td>1</td>\n",
       "      <td>1</td>\n",
       "      <td>15</td>\n",
       "      <td>ATL</td>\n",
       "      <td>play_type_pass</td>\n",
       "      <td>ATL</td>\n",
       "      <td>20</td>\n",
       "      <td>...</td>\n",
       "      <td>0.0</td>\n",
       "      <td>15:00:00</td>\n",
       "      <td>90.0</td>\n",
       "      <td>NaN</td>\n",
       "      <td>NaN</td>\n",
       "      <td>C</td>\n",
       "      <td>10</td>\n",
       "      <td>10</td>\n",
       "      <td>0.261827</td>\n",
       "      <td>False</td>\n",
       "    </tr>\n",
       "    <tr>\n",
       "      <th>1</th>\n",
       "      <td>2018090600</td>\n",
       "      <td>146</td>\n",
       "      <td>(13:10) M.Ryan pass incomplete short right to ...</td>\n",
       "      <td>1</td>\n",
       "      <td>1</td>\n",
       "      <td>10</td>\n",
       "      <td>ATL</td>\n",
       "      <td>play_type_pass</td>\n",
       "      <td>PHI</td>\n",
       "      <td>39</td>\n",
       "      <td>...</td>\n",
       "      <td>0.0</td>\n",
       "      <td>13:10:00</td>\n",
       "      <td>49.0</td>\n",
       "      <td>NaN</td>\n",
       "      <td>NaN</td>\n",
       "      <td>I</td>\n",
       "      <td>0</td>\n",
       "      <td>0</td>\n",
       "      <td>-0.372360</td>\n",
       "      <td>False</td>\n",
       "    </tr>\n",
       "    <tr>\n",
       "      <th>2</th>\n",
       "      <td>2018090600</td>\n",
       "      <td>168</td>\n",
       "      <td>(13:05) (Shotgun) M.Ryan pass incomplete short...</td>\n",
       "      <td>1</td>\n",
       "      <td>2</td>\n",
       "      <td>10</td>\n",
       "      <td>ATL</td>\n",
       "      <td>play_type_pass</td>\n",
       "      <td>PHI</td>\n",
       "      <td>39</td>\n",
       "      <td>...</td>\n",
       "      <td>0.0</td>\n",
       "      <td>13:05:00</td>\n",
       "      <td>49.0</td>\n",
       "      <td>NaN</td>\n",
       "      <td>NaN</td>\n",
       "      <td>I</td>\n",
       "      <td>0</td>\n",
       "      <td>0</td>\n",
       "      <td>-0.702779</td>\n",
       "      <td>False</td>\n",
       "    </tr>\n",
       "    <tr>\n",
       "      <th>3</th>\n",
       "      <td>2018090600</td>\n",
       "      <td>190</td>\n",
       "      <td>(13:01) (Shotgun) M.Ryan pass deep left to J.J...</td>\n",
       "      <td>1</td>\n",
       "      <td>3</td>\n",
       "      <td>10</td>\n",
       "      <td>ATL</td>\n",
       "      <td>play_type_pass</td>\n",
       "      <td>PHI</td>\n",
       "      <td>39</td>\n",
       "      <td>...</td>\n",
       "      <td>0.0</td>\n",
       "      <td>13:01:00</td>\n",
       "      <td>49.0</td>\n",
       "      <td>NaN</td>\n",
       "      <td>NaN</td>\n",
       "      <td>C</td>\n",
       "      <td>33</td>\n",
       "      <td>33</td>\n",
       "      <td>3.047530</td>\n",
       "      <td>False</td>\n",
       "    </tr>\n",
       "    <tr>\n",
       "      <th>4</th>\n",
       "      <td>2018090600</td>\n",
       "      <td>256</td>\n",
       "      <td>(10:59) (Shotgun) M.Ryan pass incomplete short...</td>\n",
       "      <td>1</td>\n",
       "      <td>3</td>\n",
       "      <td>1</td>\n",
       "      <td>ATL</td>\n",
       "      <td>play_type_pass</td>\n",
       "      <td>PHI</td>\n",
       "      <td>1</td>\n",
       "      <td>...</td>\n",
       "      <td>0.0</td>\n",
       "      <td>10:59:00</td>\n",
       "      <td>11.0</td>\n",
       "      <td>NaN</td>\n",
       "      <td>NaN</td>\n",
       "      <td>I</td>\n",
       "      <td>0</td>\n",
       "      <td>0</td>\n",
       "      <td>-0.842272</td>\n",
       "      <td>False</td>\n",
       "    </tr>\n",
       "    <tr>\n",
       "      <th>...</th>\n",
       "      <td>...</td>\n",
       "      <td>...</td>\n",
       "      <td>...</td>\n",
       "      <td>...</td>\n",
       "      <td>...</td>\n",
       "      <td>...</td>\n",
       "      <td>...</td>\n",
       "      <td>...</td>\n",
       "      <td>...</td>\n",
       "      <td>...</td>\n",
       "      <td>...</td>\n",
       "      <td>...</td>\n",
       "      <td>...</td>\n",
       "      <td>...</td>\n",
       "      <td>...</td>\n",
       "      <td>...</td>\n",
       "      <td>...</td>\n",
       "      <td>...</td>\n",
       "      <td>...</td>\n",
       "      <td>...</td>\n",
       "      <td>...</td>\n",
       "    </tr>\n",
       "    <tr>\n",
       "      <th>19234</th>\n",
       "      <td>2018122200</td>\n",
       "      <td>2300</td>\n",
       "      <td>(7:53) J.Johnson pass incomplete short left [K...</td>\n",
       "      <td>3</td>\n",
       "      <td>2</td>\n",
       "      <td>5</td>\n",
       "      <td>WAS</td>\n",
       "      <td>play_type_unknown</td>\n",
       "      <td>WAS</td>\n",
       "      <td>31</td>\n",
       "      <td>...</td>\n",
       "      <td>NaN</td>\n",
       "      <td>NaN</td>\n",
       "      <td>NaN</td>\n",
       "      <td>DH</td>\n",
       "      <td>TEN 24</td>\n",
       "      <td>I</td>\n",
       "      <td>0</td>\n",
       "      <td>5</td>\n",
       "      <td>0.848703</td>\n",
       "      <td>False</td>\n",
       "    </tr>\n",
       "    <tr>\n",
       "      <th>19235</th>\n",
       "      <td>2018122200</td>\n",
       "      <td>3177</td>\n",
       "      <td>(6:53) (Shotgun) B.Gabbert pass incomplete sho...</td>\n",
       "      <td>4</td>\n",
       "      <td>3</td>\n",
       "      <td>7</td>\n",
       "      <td>TEN</td>\n",
       "      <td>play_type_unknown</td>\n",
       "      <td>WAS</td>\n",
       "      <td>37</td>\n",
       "      <td>...</td>\n",
       "      <td>NaN</td>\n",
       "      <td>NaN</td>\n",
       "      <td>NaN</td>\n",
       "      <td>DH</td>\n",
       "      <td>WAS 31</td>\n",
       "      <td>I</td>\n",
       "      <td>0</td>\n",
       "      <td>5</td>\n",
       "      <td>1.227695</td>\n",
       "      <td>False</td>\n",
       "    </tr>\n",
       "    <tr>\n",
       "      <th>19236</th>\n",
       "      <td>2018122201</td>\n",
       "      <td>566</td>\n",
       "      <td>(5:32) (Shotgun) P.Rivers pass deep right to K...</td>\n",
       "      <td>1</td>\n",
       "      <td>3</td>\n",
       "      <td>4</td>\n",
       "      <td>LAC</td>\n",
       "      <td>play_type_unknown</td>\n",
       "      <td>LAC</td>\n",
       "      <td>49</td>\n",
       "      <td>...</td>\n",
       "      <td>NaN</td>\n",
       "      <td>NaN</td>\n",
       "      <td>NaN</td>\n",
       "      <td>OPI</td>\n",
       "      <td>LAC 13</td>\n",
       "      <td>C</td>\n",
       "      <td>27</td>\n",
       "      <td>-10</td>\n",
       "      <td>-0.720168</td>\n",
       "      <td>False</td>\n",
       "    </tr>\n",
       "    <tr>\n",
       "      <th>19237</th>\n",
       "      <td>2018122201</td>\n",
       "      <td>1719</td>\n",
       "      <td>(1:08) P.Rivers pass incomplete deep middle to...</td>\n",
       "      <td>2</td>\n",
       "      <td>3</td>\n",
       "      <td>1</td>\n",
       "      <td>LAC</td>\n",
       "      <td>play_type_unknown</td>\n",
       "      <td>LAC</td>\n",
       "      <td>48</td>\n",
       "      <td>...</td>\n",
       "      <td>NaN</td>\n",
       "      <td>NaN</td>\n",
       "      <td>NaN</td>\n",
       "      <td>DPI</td>\n",
       "      <td>BAL 23</td>\n",
       "      <td>I</td>\n",
       "      <td>0</td>\n",
       "      <td>15</td>\n",
       "      <td>1.336078</td>\n",
       "      <td>True</td>\n",
       "    </tr>\n",
       "    <tr>\n",
       "      <th>19238</th>\n",
       "      <td>2018122201</td>\n",
       "      <td>2649</td>\n",
       "      <td>(7:16) (Shotgun) L.Jackson pass incomplete sho...</td>\n",
       "      <td>3</td>\n",
       "      <td>1</td>\n",
       "      <td>10</td>\n",
       "      <td>BAL</td>\n",
       "      <td>play_type_unknown</td>\n",
       "      <td>LAC</td>\n",
       "      <td>49</td>\n",
       "      <td>...</td>\n",
       "      <td>NaN</td>\n",
       "      <td>NaN</td>\n",
       "      <td>NaN</td>\n",
       "      <td>DPI</td>\n",
       "      <td>LAC 43</td>\n",
       "      <td>I</td>\n",
       "      <td>0</td>\n",
       "      <td>9</td>\n",
       "      <td>0.550256</td>\n",
       "      <td>True</td>\n",
       "    </tr>\n",
       "  </tbody>\n",
       "</table>\n",
       "<p>19239 rows × 27 columns</p>\n",
       "</div>"
      ],
      "text/plain": [
       "           gameId  playId                                    playDescription  \\\n",
       "0      2018090600      75  (15:00) M.Ryan pass short right to J.Jones pus...   \n",
       "1      2018090600     146  (13:10) M.Ryan pass incomplete short right to ...   \n",
       "2      2018090600     168  (13:05) (Shotgun) M.Ryan pass incomplete short...   \n",
       "3      2018090600     190  (13:01) (Shotgun) M.Ryan pass deep left to J.J...   \n",
       "4      2018090600     256  (10:59) (Shotgun) M.Ryan pass incomplete short...   \n",
       "...           ...     ...                                                ...   \n",
       "19234  2018122200    2300  (7:53) J.Johnson pass incomplete short left [K...   \n",
       "19235  2018122200    3177  (6:53) (Shotgun) B.Gabbert pass incomplete sho...   \n",
       "19236  2018122201     566  (5:32) (Shotgun) P.Rivers pass deep right to K...   \n",
       "19237  2018122201    1719  (1:08) P.Rivers pass incomplete deep middle to...   \n",
       "19238  2018122201    2649  (7:16) (Shotgun) L.Jackson pass incomplete sho...   \n",
       "\n",
       "       quarter  down  yardsToGo possessionTeam           playType  \\\n",
       "0            1     1         15            ATL     play_type_pass   \n",
       "1            1     1         10            ATL     play_type_pass   \n",
       "2            1     2         10            ATL     play_type_pass   \n",
       "3            1     3         10            ATL     play_type_pass   \n",
       "4            1     3          1            ATL     play_type_pass   \n",
       "...        ...   ...        ...            ...                ...   \n",
       "19234        3     2          5            WAS  play_type_unknown   \n",
       "19235        4     3          7            TEN  play_type_unknown   \n",
       "19236        1     3          4            LAC  play_type_unknown   \n",
       "19237        2     3          1            LAC  play_type_unknown   \n",
       "19238        3     1         10            BAL  play_type_unknown   \n",
       "\n",
       "      yardlineSide  yardlineNumber  ... preSnapHomeScore gameClock  \\\n",
       "0              ATL              20  ...              0.0  15:00:00   \n",
       "1              PHI              39  ...              0.0  13:10:00   \n",
       "2              PHI              39  ...              0.0  13:05:00   \n",
       "3              PHI              39  ...              0.0  13:01:00   \n",
       "4              PHI               1  ...              0.0  10:59:00   \n",
       "...            ...             ...  ...              ...       ...   \n",
       "19234          WAS              31  ...              NaN       NaN   \n",
       "19235          WAS              37  ...              NaN       NaN   \n",
       "19236          LAC              49  ...              NaN       NaN   \n",
       "19237          LAC              48  ...              NaN       NaN   \n",
       "19238          LAC              49  ...              NaN       NaN   \n",
       "\n",
       "       absoluteYardlineNumber  penaltyCodes penaltyJerseyNumbers passResult  \\\n",
       "0                        90.0           NaN                  NaN          C   \n",
       "1                        49.0           NaN                  NaN          I   \n",
       "2                        49.0           NaN                  NaN          I   \n",
       "3                        49.0           NaN                  NaN          C   \n",
       "4                        11.0           NaN                  NaN          I   \n",
       "...                       ...           ...                  ...        ...   \n",
       "19234                     NaN            DH               TEN 24          I   \n",
       "19235                     NaN            DH               WAS 31          I   \n",
       "19236                     NaN           OPI               LAC 13          C   \n",
       "19237                     NaN           DPI               BAL 23          I   \n",
       "19238                     NaN           DPI               LAC 43          I   \n",
       "\n",
       "       offensePlayResult  playResult       epa  isDefensivePI  \n",
       "0                     10          10  0.261827          False  \n",
       "1                      0           0 -0.372360          False  \n",
       "2                      0           0 -0.702779          False  \n",
       "3                     33          33  3.047530          False  \n",
       "4                      0           0 -0.842272          False  \n",
       "...                  ...         ...       ...            ...  \n",
       "19234                  0           5  0.848703          False  \n",
       "19235                  0           5  1.227695          False  \n",
       "19236                 27         -10 -0.720168          False  \n",
       "19237                  0          15  1.336078           True  \n",
       "19238                  0           9  0.550256           True  \n",
       "\n",
       "[19239 rows x 27 columns]"
      ]
     },
     "execution_count": 60,
     "metadata": {},
     "output_type": "execute_result"
    }
   ],
   "source": [
    "plays"
   ]
  },
  {
   "cell_type": "code",
   "execution_count": 61,
   "metadata": {},
   "outputs": [
    {
     "data": {
      "text/plain": [
       "<AxesSubplot:>"
      ]
     },
     "execution_count": 61,
     "metadata": {},
     "output_type": "execute_result"
    },
    {
     "data": {
      "image/png": "[encoded data removed]",
      "text/plain": [
       "<Figure size 432x288 with 1 Axes>"
      ]
     },
     "metadata": {
      "needs_background": "light"
     },
     "output_type": "display_data"
    }
   ],
   "source": [
    "plays['passResult'].value_counts().plot.bar()"
   ]
  },
  {
   "cell_type": "code",
   "execution_count": 54,
   "metadata": {},
   "outputs": [
    {
     "data": {
      "text/plain": [
       "<AxesSubplot:xlabel='passResult'>"
      ]
     },
     "execution_count": 54,
     "metadata": {},
     "output_type": "execute_result"
    },
    {
     "data": {
      "image/png": "[encoded data removed]",
      "text/plain": [
       "<Figure size 432x288 with 1 Axes>"
      ]
     },
     "metadata": {
      "needs_background": "light"
     },
     "output_type": "display_data"
    }
   ],
   "source": [
    "plays.groupby('passResult')['epa'].min().plot.bar()"
   ]
  },
  {
   "cell_type": "code",
   "execution_count": 65,
   "metadata": {},
   "outputs": [
    {
     "data": {
      "text/plain": [
       "<matplotlib.lines.Line2D at 0x11f25c130>"
      ]
     },
     "execution_count": 65,
     "metadata": {},
     "output_type": "execute_result"
    },
    {
     "data": {
      "image/png": "[encoded data removed]",
      "text/plain": [
       "<Figure size 432x288 with 1 Axes>"
      ]
     },
     "metadata": {
      "needs_background": "light"
     },
     "output_type": "display_data"
    }
   ],
   "source": [
    "ax = plays.plot.scatter(x = 'playResult', y = 'epa')\n",
    "ax.axhline(y=0, xmin=-1, xmax=1, color='r', linestyle='--', lw=2)"
   ]
  },
  {
   "cell_type": "code",
   "execution_count": 89,
   "metadata": {},
   "outputs": [
    {
     "data": {
      "text/plain": [
       "<AxesSubplot:xlabel='numberOfPassRushers'>"
      ]
     },
     "execution_count": 89,
     "metadata": {},
     "output_type": "execute_result"
    },
    {
     "data": {
      "image/png": "[encoded data removed]",
      "text/plain": [
       "<Figure size 432x288 with 1 Axes>"
      ]
     },
     "metadata": {
      "needs_background": "light"
     },
     "output_type": "display_data"
    }
   ],
   "source": [
    "\n",
    "#plays[plays['yardlineSide'] == plays ['possessionTeam']].groupby('defendersInTheBox')['epa'].median().plot.bar()\n",
    "#plays[plays['yardlineSide'] == plays ['possessionTeam']].groupby('numberOfPassRushers')['epa'].median().plot.bar()\n"
   ]
  },
  {
   "cell_type": "code",
   "execution_count": 101,
   "metadata": {},
   "outputs": [
    {
     "name": "stderr",
     "output_type": "stream",
     "text": [
      "/Users/BenjaminHarlander/opt/anaconda3/envs/NFL/lib/python3.8/site-packages/seaborn/_decorators.py:36: FutureWarning: Pass the following variables as keyword args: x, y. From version 0.12, the only valid positional argument will be `data`, and passing other arguments without an explicit keyword will result in an error or misinterpretation.\n",
      "  warnings.warn(\n"
     ]
    },
    {
     "data": {
      "image/png": "[encoded data removed]",
      "text/plain": [
       "<Figure size 432x288 with 1 Axes>"
      ]
     },
     "metadata": {
      "needs_background": "light"
     },
     "output_type": "display_data"
    }
   ],
   "source": [
    "fontsize = 10\n",
    "\n",
    "fig, axes = plt.subplots()\n",
    "# plot violin. 'Scenario' is according to x axis, \n",
    "# 'LMP' is y axis, data is your dataframe. ax - is axes instance\n",
    "sns.violinplot('down','epa', data=plays, ax = axes)\n",
    "#axes.set_title('Day Ahead Market')\n",
    "\n",
    "plt.show()"
   ]
  },
  {
   "cell_type": "code",
   "execution_count": null,
   "metadata": {},
   "outputs": [],
   "source": []
  }
 ],
 "metadata": {
  "kernelspec": {
   "display_name": "NFL",
   "language": "python",
   "name": "nfl"
  },
  "language_info": {
   "codemirror_mode": {
    "name": "ipython",
    "version": 3
   },
   "file_extension": ".py",
   "mimetype": "text/x-python",
   "name": "python",
   "nbconvert_exporter": "python",
   "pygments_lexer": "ipython3",
   "version": "3.8.5"
  }
 },
 "nbformat": 4,
 "nbformat_minor": 4
}
